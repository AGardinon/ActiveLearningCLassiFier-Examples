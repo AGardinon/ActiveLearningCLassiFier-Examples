{
 "cells": [
  {
   "cell_type": "code",
   "execution_count": 1,
   "metadata": {},
   "outputs": [],
   "source": [
    "import numpy as np\n",
    "import pandas as pd\n",
    "\n",
    "from sklearn.preprocessing import StandardScaler\n",
    "\n",
    "from typing import Union\n",
    "\n",
    "\n",
    "class DataLoader:\n",
    "    def __init__(self, file_path: str) -> None:\n",
    "        self._file_path = file_path\n",
    "        self.constant_columns = None\n",
    "\n",
    "        print(\"Loading DataFrame ...\\n\")\n",
    "        try:\n",
    "            self.df = pd.read_csv(file_path).drop(labels='Unnamed: 0', axis=1)\n",
    "        except:\n",
    "            self.df = pd.read_csv(file_path).drop(labels='Unnamed: 0', axis=1)\n",
    "\n",
    "        self._constant_columns = get_constant_columns(df=self.df)\n",
    "        if len(self._constant_columns) > 0:\n",
    "            print(f'Removing constant columns\\n{self._constant_columns}\\n')\n",
    "            self.constant_columns = {\n",
    "                key : arg for key, arg in zip(self._constant_columns,np.unique(self.df[self._constant_columns]))\n",
    "            }\n",
    "            self.df = remove_columns(df=self.df, key=self._constant_columns)\n",
    "        elif len(self._constant_columns) == 0:\n",
    "            pass\n",
    "\n",
    "\n",
    "    def feature_space(self, target: str, scaling: bool=True):\n",
    "        # target definition\n",
    "        self.target = target\n",
    "        self.y = self.df[self.target]\n",
    "\n",
    "        # creating the feature space\n",
    "        self.X = self.df.drop(columns=self.target)\n",
    "        # feature space labels keys\n",
    "        self.fspace_keys = [k for k in self.df.columns if k != self.target]\n",
    "\n",
    "        print(f'Feature space: {self.fspace_keys},\\nTarget property: {target}')\n",
    "\n",
    "        if scaling:\n",
    "            self.scaler = StandardScaler()\n",
    "            self.X = self.scaler.fit_transform(X=self.X)\n",
    "            self.X = pd.DataFrame(data=self.X, columns=self.fspace_keys)\n",
    "        else:\n",
    "            pass\n",
    "\n",
    "\n",
    "def get_constant_columns(df: pd.DataFrame) -> list[str]:\n",
    "    const_val = list()\n",
    "\n",
    "    for k, v in df.items():\n",
    "        if len(v.unique()) == 1:\n",
    "            const_val.append(k)\n",
    "\n",
    "    return const_val\n",
    "\n",
    "\n",
    "def remove_columns(df: pd.DataFrame, \n",
    "                   key: Union[list[str], str]) -> pd.DataFrame:\n",
    "    \n",
    "    if isinstance(key, list):\n",
    "        to_drop = sum([[s for s in df.columns if k in s] for k in key], [])\n",
    "\n",
    "    elif isinstance(key, str):\n",
    "        to_drop = [s for s in df.columns if key in s]\n",
    "\n",
    "    else:\n",
    "        raise TypeError(\"Key parameters can only be `str` or `list`.\")\n",
    "    \n",
    "    df = df.drop(labels=to_drop, \n",
    "                 axis=1)\n",
    "\n",
    "    return df"
   ]
  },
  {
   "cell_type": "code",
   "execution_count": 2,
   "metadata": {},
   "outputs": [],
   "source": [
    "data_dir = '/home/andreag/Work/1.main_project/git_repo/CoacervsOpti/1.dataset_manipulation/0.sliced_dataframe/'"
   ]
  },
  {
   "cell_type": "code",
   "execution_count": 3,
   "metadata": {},
   "outputs": [],
   "source": [
    "df_2d = 'lys_asp_MWca_38.0_13.2.csv'\n",
    "df_3d = 'lys_asp_MWca_16.525_37.0_v2.csv'"
   ]
  },
  {
   "cell_type": "code",
   "execution_count": 4,
   "metadata": {},
   "outputs": [
    {
     "name": "stdout",
     "output_type": "stream",
     "text": [
      "Loading DataFrame ...\n",
      "\n",
      "Removing constant columns\n",
      "['MW_Anion_C(C(C(=O)O)N)C(=O)O', 'MW_Cation_C(CCN)CC(C(=O)O)N']\n",
      "\n",
      "Feature space: ['Conc_Anion_C(C(C(=O)O)N)C(=O)O', 'Conc_Cation_C(CCN)CC(C(=O)O)N', 'Conc_NaCl'],\n",
      "Target property: Phase\n"
     ]
    }
   ],
   "source": [
    "data = DataLoader(file_path=data_dir+df_3d)\n",
    "data.feature_space(target='Phase')"
   ]
  },
  {
   "cell_type": "code",
   "execution_count": 5,
   "metadata": {},
   "outputs": [
    {
     "data": {
      "text/html": [
       "<div>\n",
       "<style scoped>\n",
       "    .dataframe tbody tr th:only-of-type {\n",
       "        vertical-align: middle;\n",
       "    }\n",
       "\n",
       "    .dataframe tbody tr th {\n",
       "        vertical-align: top;\n",
       "    }\n",
       "\n",
       "    .dataframe thead th {\n",
       "        text-align: right;\n",
       "    }\n",
       "</style>\n",
       "<table border=\"1\" class=\"dataframe\">\n",
       "  <thead>\n",
       "    <tr style=\"text-align: right;\">\n",
       "      <th></th>\n",
       "      <th>Conc_Anion_C(C(C(=O)O)N)C(=O)O</th>\n",
       "      <th>Conc_Cation_C(CCN)CC(C(=O)O)N</th>\n",
       "      <th>Conc_NaCl</th>\n",
       "    </tr>\n",
       "  </thead>\n",
       "  <tbody>\n",
       "    <tr>\n",
       "      <th>0</th>\n",
       "      <td>1.004048</td>\n",
       "      <td>-0.298957</td>\n",
       "      <td>-1.556378</td>\n",
       "    </tr>\n",
       "    <tr>\n",
       "      <th>1</th>\n",
       "      <td>0.678273</td>\n",
       "      <td>0.026792</td>\n",
       "      <td>-1.556378</td>\n",
       "    </tr>\n",
       "    <tr>\n",
       "      <th>2</th>\n",
       "      <td>0.352498</td>\n",
       "      <td>0.352541</td>\n",
       "      <td>-1.556378</td>\n",
       "    </tr>\n",
       "    <tr>\n",
       "      <th>3</th>\n",
       "      <td>0.026723</td>\n",
       "      <td>0.678291</td>\n",
       "      <td>-1.556378</td>\n",
       "    </tr>\n",
       "    <tr>\n",
       "      <th>4</th>\n",
       "      <td>-0.299052</td>\n",
       "      <td>1.004040</td>\n",
       "      <td>-1.556378</td>\n",
       "    </tr>\n",
       "    <tr>\n",
       "      <th>...</th>\n",
       "      <td>...</td>\n",
       "      <td>...</td>\n",
       "      <td>...</td>\n",
       "    </tr>\n",
       "    <tr>\n",
       "      <th>6878</th>\n",
       "      <td>1.818485</td>\n",
       "      <td>1.818414</td>\n",
       "      <td>0.175892</td>\n",
       "    </tr>\n",
       "    <tr>\n",
       "      <th>6879</th>\n",
       "      <td>1.818485</td>\n",
       "      <td>1.818414</td>\n",
       "      <td>0.368366</td>\n",
       "    </tr>\n",
       "    <tr>\n",
       "      <th>6880</th>\n",
       "      <td>1.818485</td>\n",
       "      <td>1.818414</td>\n",
       "      <td>0.560841</td>\n",
       "    </tr>\n",
       "    <tr>\n",
       "      <th>6881</th>\n",
       "      <td>1.818485</td>\n",
       "      <td>1.818414</td>\n",
       "      <td>1.138264</td>\n",
       "    </tr>\n",
       "    <tr>\n",
       "      <th>6882</th>\n",
       "      <td>1.818485</td>\n",
       "      <td>1.818414</td>\n",
       "      <td>2.100637</td>\n",
       "    </tr>\n",
       "  </tbody>\n",
       "</table>\n",
       "<p>6883 rows × 3 columns</p>\n",
       "</div>"
      ],
      "text/plain": [
       "      Conc_Anion_C(C(C(=O)O)N)C(=O)O  Conc_Cation_C(CCN)CC(C(=O)O)N  Conc_NaCl\n",
       "0                           1.004048                      -0.298957  -1.556378\n",
       "1                           0.678273                       0.026792  -1.556378\n",
       "2                           0.352498                       0.352541  -1.556378\n",
       "3                           0.026723                       0.678291  -1.556378\n",
       "4                          -0.299052                       1.004040  -1.556378\n",
       "...                              ...                            ...        ...\n",
       "6878                        1.818485                       1.818414   0.175892\n",
       "6879                        1.818485                       1.818414   0.368366\n",
       "6880                        1.818485                       1.818414   0.560841\n",
       "6881                        1.818485                       1.818414   1.138264\n",
       "6882                        1.818485                       1.818414   2.100637\n",
       "\n",
       "[6883 rows x 3 columns]"
      ]
     },
     "execution_count": 5,
     "metadata": {},
     "output_type": "execute_result"
    }
   ],
   "source": [
    "data.X"
   ]
  },
  {
   "cell_type": "code",
   "execution_count": 6,
   "metadata": {},
   "outputs": [
    {
     "data": {
      "text/plain": [
       "array([[   5.6,    2.4,  100. ],\n",
       "       [   4.8,    3.2,  100. ],\n",
       "       [   4. ,    4. ,  100. ],\n",
       "       ...,\n",
       "       [   7.6,    7.6, 1200. ],\n",
       "       [   7.6,    7.6, 1500. ],\n",
       "       [   7.6,    7.6, 2000. ]])"
      ]
     },
     "execution_count": 6,
     "metadata": {},
     "output_type": "execute_result"
    }
   ],
   "source": [
    "data.scaler.inverse_transform(data.X)"
   ]
  },
  {
   "cell_type": "code",
   "execution_count": null,
   "metadata": {},
   "outputs": [],
   "source": []
  }
 ],
 "metadata": {
  "kernelspec": {
   "display_name": "coacerv",
   "language": "python",
   "name": "python3"
  },
  "language_info": {
   "codemirror_mode": {
    "name": "ipython",
    "version": 3
   },
   "file_extension": ".py",
   "mimetype": "text/x-python",
   "name": "python",
   "nbconvert_exporter": "python",
   "pygments_lexer": "ipython3",
   "version": "3.12.1"
  }
 },
 "nbformat": 4,
 "nbformat_minor": 2
}
